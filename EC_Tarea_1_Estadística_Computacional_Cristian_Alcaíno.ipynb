{
  "cells": [
    {
      "cell_type": "markdown",
      "metadata": {
        "id": "view-in-github",
        "colab_type": "text"
      },
      "source": [
        "<a href=\"https://colab.research.google.com/github/ackerfeld/ackerdfeld/blob/main/EC_Tarea_1_Estad%C3%ADstica_Computacional_Cristian_Alca%C3%ADno.ipynb\" target=\"_parent\"><img src=\"https://colab.research.google.com/assets/colab-badge.svg\" alt=\"Open In Colab\"/></a>"
      ]
    },
    {
      "cell_type": "markdown",
      "metadata": {
        "id": "AHwh8pEKeYYz"
      },
      "source": [
        "# Tarea 1 - Estadística Computacional\n",
        "\n",
        "- Nombre: Cristian Alcaíno Fernández\n",
        "\n",
        "Curso: Estadística Computacional\n",
        "\n",
        "Doctorado en Estadística\n",
        "\n",
        "\n",
        "Responda las preguntas que se indican colocando el código requerido. El Notebook se entrega totalmente ejecutado."
      ]
    },
    {
      "cell_type": "markdown",
      "metadata": {
        "id": "hJSM7VpweYZM"
      },
      "source": [
        "**Ingrese los Toolbox que se utilizarán en este Jupyter**"
      ]
    },
    {
      "cell_type": "code",
      "execution_count": 2,
      "metadata": {
        "id": "PtEZppw_eYZN"
      },
      "outputs": [],
      "source": [
        "import numpy as np\n"
      ]
    },
    {
      "cell_type": "markdown",
      "metadata": {
        "id": "5KkNh4CReYZP"
      },
      "source": [
        "## 1. Indicadores estadísticos.\n",
        "\n",
        "En estadística, en muchas ocasiones se requiere implementar indicadores o estadísticos. En esta pregunta deberá implementar los siguientes indicadores:"
      ]
    },
    {
      "cell_type": "markdown",
      "metadata": {
        "id": "whUAjuMCeYah"
      },
      "source": [
        "1. **Symmetric mean absolute percentage error (SMAPE or sMAPE)**: es una medida de precisión basada en errores porcentuales (o relativos).\n",
        "\n",
        "$$sMAPE = \\frac{100\\%}{n}\\sum_{t=1}^n \\frac{|F_t-A_t|}{(|A_t|+|F_t|)/2}$$\n",
        "\n",
        "donde $A_t$ es el valor real y $F_t$ es el valor de pronóstico.\n",
        "\n",
        "Implementar la Función sMAPE:"
      ]
    },
    {
      "cell_type": "code",
      "execution_count": 6,
      "metadata": {
        "id": "MZPv0VUZeYai"
      },
      "outputs": [],
      "source": [
        "def smape(real,prons):\n",
        "    return 100/len(real) * np.sum(2 * np.abs(prons - real) / (np.abs(real) + np.abs(prons)))\n"
      ]
    },
    {
      "cell_type": "markdown",
      "metadata": {
        "id": "1pnM7aC4eYaj"
      },
      "source": [
        "Aplicar la función sMAPE de las siguientes listas:\n",
        "\n",
        "Dato = { 1.5 ,  2.89, -0.08, -2.93, -1.35,  2.26,  2.47, -1.05, -2.98,\n",
        "       -0.41,  2.78,  1.78, -1.91, -2.71,  0.58,  3.  ,  0.9 , -2.56,\n",
        "       -2.15,  1.5 }\n",
        "       \n",
        "Predicción = { 3.58,  4.3 ,  0.5 , -3.11, -1.94,  3.71,  1.56, -1.55, -2.77,\n",
        "       -0.51,  2.93,  2.14, -1.76, -1.96, -0.51,  2.96, -0.34, -3.33,\n",
        "       -3.49,  1.5}\n"
      ]
    },
    {
      "cell_type": "code",
      "execution_count": 8,
      "metadata": {
        "id": "Z1CM8opKeYal",
        "colab": {
          "base_uri": "https://localhost:8080/"
        },
        "outputId": "468aa1f1-d432-4f01-98bf-c3233859a6e4"
      },
      "outputs": [
        {
          "output_type": "stream",
          "name": "stdout",
          "text": [
            "SMAPE : 53.15507816129963\n"
          ]
        }
      ],
      "source": [
        "#define la matriz de datos \n",
        "Dato = np.array( [1.5 , 2.89, -0.08, -2.93, -1.35, 2.26, 2.47, -1.05, -2.98, -0.41, 2.78, 1.78, -1.91, -2.71, 0.58, 3. , 0.9 , -2.56, -2.15, 1.5 ])\n",
        "pron = np.array([3.58, 4.3 , 0.5 , -3.11, -1.94, 3.71, 1.56, -1.55, -2.77, -0.51, 2.93, 2.14, -1.76, -1.96, -0.51, 2.96, -0.34, -3.33, -3.49, 1.5])\n",
        "# Calcula el valor de SMAPE\n",
        "result = smape(Dato, pron)\n",
        "# Imprime el resultado \n",
        "print(\"SMAPE :\",result)"
      ]
    },
    {
      "cell_type": "markdown",
      "metadata": {
        "id": "Cp6TpBnheYan"
      },
      "source": [
        "2. **Coeficiente de correlación de Spearman ($\\rho$)**: es una medida de la correlación (la asociación o interdependencia) entre dos variables aleatorias (tanto continuas como discretas). Para calcular $\\rho$, los datos son ordenados y reemplazados por su respectivo orden.\n",
        "\n",
        "El estadístico está dado por:\n",
        "\n",
        "$$\\rho = 1 - \\frac{6\\sum_i D_{(i)}^2}{N(N^2-1)}$$\n",
        "\n",
        "donde $D_{(i)}$ es la diferencia entre los correspondientes estadísticos de orden de $x$ e $y$. $N$ es el número de parejas de datos.\n"
      ]
    },
    {
      "cell_type": "markdown",
      "source": [
        "# **Calculamos el coeficiente de correlación de Spearman**, usando Numpy"
      ],
      "metadata": {
        "id": "8-emHWqqh3oY"
      }
    },
    {
      "cell_type": "code",
      "source": [
        "Dato = np.array( [1.5 , 2.89, -0.08, -2.93, -1.35, 2.26, 2.47, -1.05, -2.98, -0.41, 2.78, 1.78, -1.91, -2.71, 0.58, 3. , 0.9 , -2.56, -2.15, 1.5 ])\n",
        "pron = np.array([3.58, 4.3 , 0.5 , -3.11, -1.94, 3.71, 1.56, -1.55, -2.77, -0.51, 2.93, 2.14, -1.76, -1.96, -0.51, 2.96, -0.34, -3.33, -3.49, 1.5])\n",
        "coer=np.corrcoef(Dato, pron)\n",
        "print(coer)"
      ],
      "metadata": {
        "colab": {
          "base_uri": "https://localhost:8080/"
        },
        "id": "6jkF0dfvZTab",
        "outputId": "1d0a4ba0-598f-4d3b-e962-31683a4fd908"
      },
      "execution_count": 38,
      "outputs": [
        {
          "output_type": "stream",
          "name": "stdout",
          "text": [
            "[[1.         0.93991654]\n",
            " [0.93991654 1.        ]]\n"
          ]
        }
      ]
    },
    {
      "cell_type": "markdown",
      "metadata": {
        "id": "EIcwkqHCeYax"
      },
      "source": [
        "Calcular el coeficiente de correlación de Spearman para los siguientes datos:\n",
        "    \n",
        "Dato = { 1.5 ,  2.89, -0.08, -2.93, -1.35,  2.26,  2.47, -1.05, -2.98,\n",
        "       -0.41,  2.78,  1.78, -1.91, -2.71,  0.58,  3.  ,  0.9 , -2.56,\n",
        "       -2.15,  1.5 }\n",
        "       \n",
        "Predicción = { 3.58,  4.3 ,  0.5 , -3.11, -1.94,  3.71,  1.56, -1.55, -2.77,\n",
        "       -0.51,  2.93,  2.14, -1.76, -1.96, -0.51,  2.96, -0.34, -3.33,\n",
        "       -3.49,  1.5}"
      ]
    },
    {
      "cell_type": "code",
      "execution_count": 20,
      "metadata": {
        "id": "ENTRX3iTeYay",
        "colab": {
          "base_uri": "https://localhost:8080/",
          "height": 477
        },
        "outputId": "e598b1a6-cef9-419d-b959-8f42c2cdf6bd"
      },
      "outputs": [
        {
          "output_type": "stream",
          "name": "stdout",
          "text": [
            "    Dato  Prediccion\n",
            "0   1.50        3.58\n",
            "1   2.89        4.30\n",
            "2  -0.08        0.50\n",
            "3  -2.93       -3.11\n",
            "4  -1.35       -1.94\n",
            "5   2.26        3.71\n",
            "6   2.47        1.56\n",
            "7  -1.05       -1.55\n",
            "8  -2.98       -2.77\n",
            "9  -0.41       -0.51\n",
            "10  2.78        2.93\n",
            "11  1.78        2.14\n",
            "12 -1.91       -1.76\n",
            "13 -2.71       -1.96\n",
            "14  0.58       -0.51\n",
            "15  3.00        2.96\n",
            "16  0.90       -0.34\n",
            "17 -2.56       -3.33\n",
            "18 -2.15       -3.49\n",
            "19  1.50        1.50\n"
          ]
        },
        {
          "output_type": "execute_result",
          "data": {
            "text/plain": [
              "                Dato  Prediccion\n",
              "Dato        1.000000    0.939917\n",
              "Prediccion  0.939917    1.000000"
            ],
            "text/html": [
              "\n",
              "  <div id=\"df-574a8a28-e672-42d7-907c-41896dd1fd9d\">\n",
              "    <div class=\"colab-df-container\">\n",
              "      <div>\n",
              "<style scoped>\n",
              "    .dataframe tbody tr th:only-of-type {\n",
              "        vertical-align: middle;\n",
              "    }\n",
              "\n",
              "    .dataframe tbody tr th {\n",
              "        vertical-align: top;\n",
              "    }\n",
              "\n",
              "    .dataframe thead th {\n",
              "        text-align: right;\n",
              "    }\n",
              "</style>\n",
              "<table border=\"1\" class=\"dataframe\">\n",
              "  <thead>\n",
              "    <tr style=\"text-align: right;\">\n",
              "      <th></th>\n",
              "      <th>Dato</th>\n",
              "      <th>Prediccion</th>\n",
              "    </tr>\n",
              "  </thead>\n",
              "  <tbody>\n",
              "    <tr>\n",
              "      <th>Dato</th>\n",
              "      <td>1.000000</td>\n",
              "      <td>0.939917</td>\n",
              "    </tr>\n",
              "    <tr>\n",
              "      <th>Prediccion</th>\n",
              "      <td>0.939917</td>\n",
              "      <td>1.000000</td>\n",
              "    </tr>\n",
              "  </tbody>\n",
              "</table>\n",
              "</div>\n",
              "      <button class=\"colab-df-convert\" onclick=\"convertToInteractive('df-574a8a28-e672-42d7-907c-41896dd1fd9d')\"\n",
              "              title=\"Convert this dataframe to an interactive table.\"\n",
              "              style=\"display:none;\">\n",
              "        \n",
              "  <svg xmlns=\"http://www.w3.org/2000/svg\" height=\"24px\"viewBox=\"0 0 24 24\"\n",
              "       width=\"24px\">\n",
              "    <path d=\"M0 0h24v24H0V0z\" fill=\"none\"/>\n",
              "    <path d=\"M18.56 5.44l.94 2.06.94-2.06 2.06-.94-2.06-.94-.94-2.06-.94 2.06-2.06.94zm-11 1L8.5 8.5l.94-2.06 2.06-.94-2.06-.94L8.5 2.5l-.94 2.06-2.06.94zm10 10l.94 2.06.94-2.06 2.06-.94-2.06-.94-.94-2.06-.94 2.06-2.06.94z\"/><path d=\"M17.41 7.96l-1.37-1.37c-.4-.4-.92-.59-1.43-.59-.52 0-1.04.2-1.43.59L10.3 9.45l-7.72 7.72c-.78.78-.78 2.05 0 2.83L4 21.41c.39.39.9.59 1.41.59.51 0 1.02-.2 1.41-.59l7.78-7.78 2.81-2.81c.8-.78.8-2.07 0-2.86zM5.41 20L4 18.59l7.72-7.72 1.47 1.35L5.41 20z\"/>\n",
              "  </svg>\n",
              "      </button>\n",
              "      \n",
              "  <style>\n",
              "    .colab-df-container {\n",
              "      display:flex;\n",
              "      flex-wrap:wrap;\n",
              "      gap: 12px;\n",
              "    }\n",
              "\n",
              "    .colab-df-convert {\n",
              "      background-color: #E8F0FE;\n",
              "      border: none;\n",
              "      border-radius: 50%;\n",
              "      cursor: pointer;\n",
              "      display: none;\n",
              "      fill: #1967D2;\n",
              "      height: 32px;\n",
              "      padding: 0 0 0 0;\n",
              "      width: 32px;\n",
              "    }\n",
              "\n",
              "    .colab-df-convert:hover {\n",
              "      background-color: #E2EBFA;\n",
              "      box-shadow: 0px 1px 2px rgba(60, 64, 67, 0.3), 0px 1px 3px 1px rgba(60, 64, 67, 0.15);\n",
              "      fill: #174EA6;\n",
              "    }\n",
              "\n",
              "    [theme=dark] .colab-df-convert {\n",
              "      background-color: #3B4455;\n",
              "      fill: #D2E3FC;\n",
              "    }\n",
              "\n",
              "    [theme=dark] .colab-df-convert:hover {\n",
              "      background-color: #434B5C;\n",
              "      box-shadow: 0px 1px 3px 1px rgba(0, 0, 0, 0.15);\n",
              "      filter: drop-shadow(0px 1px 2px rgba(0, 0, 0, 0.3));\n",
              "      fill: #FFFFFF;\n",
              "    }\n",
              "  </style>\n",
              "\n",
              "      <script>\n",
              "        const buttonEl =\n",
              "          document.querySelector('#df-574a8a28-e672-42d7-907c-41896dd1fd9d button.colab-df-convert');\n",
              "        buttonEl.style.display =\n",
              "          google.colab.kernel.accessAllowed ? 'block' : 'none';\n",
              "\n",
              "        async function convertToInteractive(key) {\n",
              "          const element = document.querySelector('#df-574a8a28-e672-42d7-907c-41896dd1fd9d');\n",
              "          const dataTable =\n",
              "            await google.colab.kernel.invokeFunction('convertToInteractive',\n",
              "                                                     [key], {});\n",
              "          if (!dataTable) return;\n",
              "\n",
              "          const docLinkHtml = 'Like what you see? Visit the ' +\n",
              "            '<a target=\"_blank\" href=https://colab.research.google.com/notebooks/data_table.ipynb>data table notebook</a>'\n",
              "            + ' to learn more about interactive tables.';\n",
              "          element.innerHTML = '';\n",
              "          dataTable['output_type'] = 'display_data';\n",
              "          await google.colab.output.renderOutput(dataTable, element);\n",
              "          const docLink = document.createElement('div');\n",
              "          docLink.innerHTML = docLinkHtml;\n",
              "          element.appendChild(docLink);\n",
              "        }\n",
              "      </script>\n",
              "    </div>\n",
              "  </div>\n",
              "  "
            ]
          },
          "metadata": {},
          "execution_count": 20
        }
      ],
      "source": [
        ""
      ]
    },
    {
      "cell_type": "code",
      "source": [
        "plt.matshow(Matriz_datos.corr())"
      ],
      "metadata": {
        "colab": {
          "base_uri": "https://localhost:8080/",
          "height": 292
        },
        "id": "2DY3Z2BPgdbm",
        "outputId": "4f441e41-d0ae-48ad-d11b-84ccf378e656"
      },
      "execution_count": 21,
      "outputs": [
        {
          "output_type": "execute_result",
          "data": {
            "text/plain": [
              "<matplotlib.image.AxesImage at 0x7f364a662850>"
            ]
          },
          "metadata": {},
          "execution_count": 21
        },
        {
          "output_type": "display_data",
          "data": {
            "text/plain": [
              "<Figure size 288x288 with 1 Axes>"
            ],
            "image/png": "[encoded data removed]"
          },
          "metadata": {
            "needs_background": "light"
          }
        }
      ]
    },
    {
      "cell_type": "markdown",
      "metadata": {
        "id": "isWmCc2ReYaz"
      },
      "source": [
        "3. **Coeficiente de Gini:** es una medida de la desigualdad. El coeficiente de Gini es un número entre 0 y 1, en donde 0 se corresponde con la perfecta igualdad (todos tienen los mismos ingresos) y donde el valor 1 se corresponde con la perfecta desigualdad. Para obtener el coeficiente de Gini, en general se utiliza la fórmila de Brown:\n",
        "\n",
        "$$G = \\left|1 - \\sum_{k=1}^n (X_{k+1}-X_k)(Y_{k+1}+Y_k)\\right|$$\n",
        "\n",
        "donde $X$ e $Y$ corresponden a la proporción acumulada de las variables.\n",
        "\n",
        "Implementar la función que calcule el coeficiente de Gini.\n"
      ]
    },
    {
      "cell_type": "code",
      "execution_count": null,
      "metadata": {
        "id": "xPQa6UFIeYaz"
      },
      "outputs": [],
      "source": [
        ""
      ]
    },
    {
      "cell_type": "markdown",
      "metadata": {
        "id": "7YQnfOjyeYa0"
      },
      "source": [
        "Obtener el coeficiente de Gini para las siguientes dos proporciones:\n",
        "\n",
        "| Variables Acumuladas| Clase 1 | Clase 2 | Clase 3 | Clase 4 | Clase 5 |\n",
        "| --- | --- | --- | --- | --- | --- |\n",
        "| X | 0.09 | 0.33 | 0.45 | 0.78 | 1 |\n",
        "| Y | 0.17 | 0.48 | 0.62 | 0.86 | 1 |\n",
        "\n"
      ]
    },
    {
      "cell_type": "code",
      "execution_count": null,
      "metadata": {
        "id": "OBGzGDcteYa3"
      },
      "outputs": [],
      "source": [
        ""
      ]
    },
    {
      "cell_type": "markdown",
      "metadata": {
        "id": "ZbsjvoX9eYa4"
      },
      "source": [
        "## 2. Algoritmos"
      ]
    },
    {
      "cell_type": "markdown",
      "metadata": {
        "id": "1RC26f0LeYa6"
      },
      "source": [
        "1. Dado dos conjuntos de datos ordenados y de tamaños diferentes, realizar una función que mezcle ambos conjunto y genere un nuevo conjunto con todos los datos ordenados."
      ]
    },
    {
      "cell_type": "code",
      "execution_count": null,
      "metadata": {
        "id": "ACzscmuOeYa_"
      },
      "outputs": [],
      "source": [
        ""
      ]
    },
    {
      "cell_type": "markdown",
      "metadata": {
        "id": "6xUdjLZ9eYbA"
      },
      "source": [
        "Aplicar el algoritmo para mezclar y ordenar los siguientes conjuntos:\n",
        "\n",
        "$$D_1 = \\{5, 7, 15, 23, 45, 72, 83\\}$$\n",
        "\n",
        "$$D_2= \\{1, 2, 6, 29, 37, 75, 100, 110, 115, 117\\}$$"
      ]
    },
    {
      "cell_type": "code",
      "execution_count": null,
      "metadata": {
        "id": "GX0SrIj-eYbH"
      },
      "outputs": [],
      "source": [
        ""
      ]
    },
    {
      "cell_type": "markdown",
      "metadata": {
        "id": "9ApSqhGteYbH"
      },
      "source": [
        "2. La equivalencia de los símbolos básicos de los números romanos es la siguiente:\n",
        "\n",
        "|Número Romano | I | V | X | L | C | D | M |\n",
        "| --- | --- | --- | --- | --- | --- | --- | --- |\n",
        "|Número decimal| 1 | 5 | 10 | 50 | 100 | 500 | 1000 |\n",
        "\n",
        "Los enteros romanos se escriben de acuerdo a las siguientes reglas:\n",
        "\n",
        "- Si una letra está seguida inmediatamente por una de igual o menor valor, su valor se suma al total acumulado. Así, XX = 20, XV = 15 y VI = 6.\n",
        "- Si una letra está seguida inmediatamente por una de mayor valor, su valor se sustrae del total acumulado. Así, IV = 4, XL = 40 y CM = 900.\n",
        "\n",
        "Escriba la función que reciba un string con un número en notación romana, y entregue el entero equivalente:"
      ]
    },
    {
      "cell_type": "code",
      "execution_count": null,
      "metadata": {
        "id": "PQ5udqrkeYbJ"
      },
      "outputs": [],
      "source": [
        ""
      ]
    },
    {
      "cell_type": "markdown",
      "metadata": {
        "id": "8O350tvEeYbJ"
      },
      "source": [
        "## 3. Algoritmos en Series de Tiempo\n",
        "\n",
        "Una serie de tiempo es una secuencia de valores numéricos obtenidos a intervalos de tiempos regulares.\n",
        "\n",
        "$$X=\\{x_1, x_2,....., x_t, ..., x_T\\}$$"
      ]
    },
    {
      "cell_type": "code",
      "execution_count": null,
      "metadata": {
        "id": "cIIa868yeYbK"
      },
      "outputs": [],
      "source": [
        ""
      ]
    },
    {
      "cell_type": "markdown",
      "metadata": {
        "id": "_0S7HkIqeYbM"
      },
      "source": [
        "1. Las medias móviles con retardo $p$ de una serie de tiempo son las secuencia de todos los promedios de $p$ valores consecutivos de la serie. Realizar una función que retorne el arreglo de las medias móviles con retardo $p$ de la serie."
      ]
    },
    {
      "cell_type": "code",
      "execution_count": null,
      "metadata": {
        "id": "xYXaftAqeYbN"
      },
      "outputs": [],
      "source": [
        ""
      ]
    },
    {
      "cell_type": "markdown",
      "metadata": {
        "id": "iptJ5capeYbQ"
      },
      "source": [
        "Aplicar la función a los siguientes datos:\n",
        "\n",
        "Dato = { 1.5 ,  2.89, -0.08, -2.93, -1.35,  2.26,  2.47, -1.05, -2.98,\n",
        "       -0.41,  2.78,  1.78, -1.91, -2.71,  0.58,  3.  ,  0.9 , -2.56,\n",
        "       -2.15,  1.5 }"
      ]
    },
    {
      "cell_type": "code",
      "execution_count": null,
      "metadata": {
        "id": "533z4WbSeYbR"
      },
      "outputs": [],
      "source": [
        ""
      ]
    },
    {
      "cell_type": "markdown",
      "metadata": {
        "id": "VBG-4QCTeYbS"
      },
      "source": [
        "2. Las diferencias finitas de una serie de tiempo son la secuencia de todas las diferencias entre un valor y el anterior. Escribir una función que retorne el arreglo de las diferencias finitas de la serie."
      ]
    },
    {
      "cell_type": "code",
      "execution_count": null,
      "metadata": {
        "id": "Zcv80bZleYbV"
      },
      "outputs": [],
      "source": [
        ""
      ]
    },
    {
      "cell_type": "markdown",
      "metadata": {
        "id": "bCn1TZtfeYbY"
      },
      "source": [
        "Aplicar la función a los siguientes datos:\n",
        "\n",
        "Dato = { 1.5 ,  2.89, -0.08, -2.93, -1.35,  2.26,  2.47, -1.05, -2.98,\n",
        "       -0.41,  2.78,  1.78, -1.91, -2.71,  0.58,  3.  ,  0.9 , -2.56,\n",
        "       -2.15,  1.5 }"
      ]
    },
    {
      "cell_type": "code",
      "execution_count": null,
      "metadata": {
        "id": "kanpWIbeeYbZ"
      },
      "outputs": [],
      "source": [
        ""
      ]
    },
    {
      "cell_type": "markdown",
      "metadata": {
        "id": "umMlatX3eYbd"
      },
      "source": [
        "3. En algunos métodos se requiere construir la matriz de rezagos de orden p. Esto es, dado la serie de tiempo:\n",
        "\n",
        "$$X=\\{x_1, x_2,....., x_t, ..., x_T\\}$$\n",
        "\n",
        "La matriz de rezagos de orden $p$ está dada por:\n",
        "\n",
        "$$M = \\left[\\begin{array}{cccccc}\n",
        "x_1 & x_2 & ... & x_p\\\\\n",
        "x_2 & x_3 & ... & x_{p+1}\\\\\n",
        "x_4 & x_5 & ... & x_{p+2}\\\\\n",
        "... & ... & ... & ...\\\\\n",
        "x_{T-p} & x_{T-p+1} & ... & x_{T-1}\\\\\n",
        "x_{T-p+1} & x_{T-p+2} & ... & x_{T}\\\\\n",
        "\\end{array}\n",
        "\\right]$$ \n",
        "\n",
        "Realizar una función que construya dicha estructura de datos."
      ]
    },
    {
      "cell_type": "code",
      "execution_count": null,
      "metadata": {
        "id": "Gipibg-meYbl"
      },
      "outputs": [],
      "source": [
        ""
      ]
    },
    {
      "cell_type": "markdown",
      "metadata": {
        "id": "JmJUX3XBeYbo"
      },
      "source": [
        "Aplicar la función a los siguientes datos:\n",
        "\n",
        "Dato = { 1.5 ,  2.89, -0.08, -2.93, -1.35,  2.26,  2.47, -1.05, -2.98,\n",
        "       -0.41,  2.78,  1.78, -1.91, -2.71,  0.58,  3.  ,  0.9 , -2.56,\n",
        "       -2.15,  1.5 }"
      ]
    },
    {
      "cell_type": "code",
      "execution_count": null,
      "metadata": {
        "id": "olK7zqfMeYbp"
      },
      "outputs": [],
      "source": [
        ""
      ]
    }
  ],
  "metadata": {
    "kernelspec": {
      "display_name": "Python 3",
      "language": "python",
      "name": "python3"
    },
    "language_info": {
      "codemirror_mode": {
        "name": "ipython",
        "version": 3
      },
      "file_extension": ".py",
      "mimetype": "text/x-python",
      "name": "python",
      "nbconvert_exporter": "python",
      "pygments_lexer": "ipython3",
      "version": "3.8.5"
    },
    "colab": {
      "name": "EC - Tarea 1 - Estadística Computacional-Cristian-Alcaíno.ipynb",
      "provenance": [],
      "include_colab_link": true
    }
  },
  "nbformat": 4,
  "nbformat_minor": 0
}