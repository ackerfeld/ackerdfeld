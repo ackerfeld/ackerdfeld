{
  "cells": [
    {
      "cell_type": "markdown",
      "metadata": {
        "id": "view-in-github",
        "colab_type": "text"
      },
      "source": [
        "<a href=\"https://colab.research.google.com/github/ackerfeld/ackerdfeld/blob/main/EC_Tarea_1_Estad%C3%ADstica_Computacional_Cristian_Alca%C3%ADno-Final.ipynb\" target=\"_parent\"><img src=\"https://colab.research.google.com/assets/colab-badge.svg\" alt=\"Open In Colab\"/></a>"
      ]
    },
    {
      "cell_type": "markdown",
      "metadata": {
        "id": "AHwh8pEKeYYz"
      },
      "source": [
        "# Tarea 1 - Estadística Computacional\n",
        "\n",
        "- Nombre: Cristian Alcaíno Fernández\n",
        "\n",
        "Curso: Estadística Computacional\n",
        "\n",
        "Doctorado en Estadística\n",
        "\n",
        "\n",
        "Responda las preguntas que se indican colocando el código requerido. El Notebook se entrega totalmente ejecutado."
      ]
    },
    {
      "cell_type": "markdown",
      "metadata": {
        "id": "hJSM7VpweYZM"
      },
      "source": [
        "**Ingrese los Toolbox que se utilizarán en este Jupyter**"
      ]
    },
    {
      "cell_type": "code",
      "execution_count": 23,
      "metadata": {
        "id": "PtEZppw_eYZN"
      },
      "outputs": [],
      "source": [
        "import numpy as np\n",
        "import pandas as pd\n",
        "import matplotlib.pyplot as plt\n",
        "\n",
        "from scipy.stats import spearmanr"
      ]
    },
    {
      "cell_type": "markdown",
      "metadata": {
        "id": "5KkNh4CReYZP"
      },
      "source": [
        "## 1. Indicadores estadísticos.\n",
        "\n",
        "En estadística, en muchas ocasiones se requiere implementar indicadores o estadísticos. En esta pregunta deberá implementar los siguientes indicadores:"
      ]
    },
    {
      "cell_type": "markdown",
      "metadata": {
        "id": "whUAjuMCeYah"
      },
      "source": [
        "1. **Symmetric mean absolute percentage error (SMAPE or sMAPE)**: es una medida de precisión basada en errores porcentuales (o relativos).\n",
        "\n",
        "$$sMAPE = \\frac{100\\%}{n}\\sum_{t=1}^n \\frac{|F_t-A_t|}{(|A_t|+|F_t|)/2}$$\n",
        "\n",
        "donde $A_t$ es el valor real y $F_t$ es el valor de pronóstico.\n",
        "\n",
        "Implementar la Función sMAPE:"
      ]
    },
    {
      "cell_type": "markdown",
      "metadata": {
        "id": "1pnM7aC4eYaj"
      },
      "source": [
        "Aplicar la función sMAPE de las siguientes listas:\n",
        "\n",
        "Dato = { 1.5 ,  2.89, -0.08, -2.93, -1.35,  2.26,  2.47, -1.05, -2.98,\n",
        "       -0.41,  2.78,  1.78, -1.91, -2.71,  0.58,  3.  ,  0.9 , -2.56,\n",
        "       -2.15,  1.5 }\n",
        "       \n",
        "Predicción = { 3.58,  4.3 ,  0.5 , -3.11, -1.94,  3.71,  1.56, -1.55, -2.77,\n",
        "       -0.51,  2.93,  2.14, -1.76, -1.96, -0.51,  2.96, -0.34, -3.33,\n",
        "       -3.49,  1.5}\n"
      ]
    },
    {
      "cell_type": "markdown",
      "metadata": {
        "id": "k97HWB_w1hmB"
      },
      "source": [
        "**Función para sMAPE encapsulado**"
      ]
    },
    {
      "cell_type": "code",
      "execution_count": null,
      "metadata": {
        "id": "MZPv0VUZeYai"
      },
      "outputs": [],
      "source": [
        "def smape(real,prons):\n",
        "  real=np.array(real)  #convierte el conjunto de datos en un arreglo numpy\n",
        "  prons=np.array(prons) #convierte el conjunto de datos en un arreglo numpy\n",
        "  return (1/len(real)) * np.sum(2 * np.abs(prons - real) / (np.abs(real) + np.abs(prons))) #calcula y retorna el valor sMAPE\n"
      ]
    },
    {
      "cell_type": "markdown",
      "metadata": {
        "id": "UWaNK6kZmJm4"
      },
      "source": [
        " **Calculamos SMAPE**"
      ]
    },
    {
      "cell_type": "code",
      "execution_count": null,
      "metadata": {
        "id": "Z1CM8opKeYal"
      },
      "outputs": [],
      "source": [
        "#Ingreso de los datos\n",
        "Dato = [ 1.5 , 2.89, -0.08, -2.93, -1.35, 2.26, 2.47, -1.05, -2.98, -0.41, 2.78, 1.78, -1.91, -2.71, 0.58, 3. , 0.9 , -2.56, -2.15, 1.5 ]\n",
        "Pronostico = [3.58, 4.3 , 0.5 , -3.11, -1.94, 3.71, 1.56, -1.55, -2.77, -0.51, 2.93, 2.14, -1.76, -1.96, -0.51, 2.96, -0.34, -3.33, -3.49, 1.5]\n"
      ]
    },
    {
      "cell_type": "markdown",
      "metadata": {
        "id": "K86S2BfmRzzg"
      },
      "source": [
        "**Impriendo sMAPE**"
      ]
    },
    {
      "cell_type": "code",
      "execution_count": null,
      "metadata": {
        "colab": {
          "base_uri": "https://localhost:8080/"
        },
        "id": "1hnX44cgR4Cm",
        "outputId": "8c53a91a-6eee-44ee-d1af-7c4254bc9f1c"
      },
      "outputs": [
        {
          "name": "stdout",
          "output_type": "stream",
          "text": [
            "SMAPE : 0.5315507816129963\n"
          ]
        }
      ],
      "source": [
        "# LLama a la función sMAPE\n",
        "result = smape(Dato, Pronostico)\n",
        "# Imprime el resultado sMAPE\n",
        "print(\"SMAPE :\",result)"
      ]
    },
    {
      "cell_type": "markdown",
      "metadata": {
        "id": "Cp6TpBnheYan"
      },
      "source": [
        "2. **Coeficiente de correlación de Spearman ($\\rho$)**: es una medida de la correlación (la asociación o interdependencia) entre dos variables aleatorias (tanto continuas como discretas). Para calcular $\\rho$, los datos son ordenados y reemplazados por su respectivo orden.\n",
        "\n",
        "El estadístico está dado por:\n",
        "\n",
        "$$\\rho = 1 - \\frac{6\\sum_i D_{(i)}^2}{N(N^2-1)}$$\n",
        "\n",
        "donde $D_{(i)}$ es la diferencia entre los correspondientes estadísticos de orden de $x$ e $y$. $N$ es el número de parejas de datos.\n"
      ]
    },
    {
      "cell_type": "markdown",
      "metadata": {
        "id": "EIcwkqHCeYax"
      },
      "source": [
        "Calcular el coeficiente de correlación de Spearman para los siguientes datos:\n",
        "    \n",
        "Dato = { 1.5 ,  2.89, -0.08, -2.93, -1.35,  2.26,  2.47, -1.05, -2.98,\n",
        "       -0.41,  2.78,  1.78, -1.91, -2.71,  0.58,  3.  ,  0.9 , -2.56,\n",
        "       -2.15,  1.5 }\n",
        "       \n",
        "Predicción = { 3.58,  4.3 ,  0.5 , -3.11, -1.94,  3.71,  1.56, -1.55, -2.77,\n",
        "       -0.51,  2.93,  2.14, -1.76, -1.96, -0.51,  2.96, -0.34, -3.33,\n",
        "       -3.49,  1.5}"
      ]
    },
    {
      "cell_type": "markdown",
      "metadata": {
        "id": "SGFO0gYu1wjA"
      },
      "source": [
        "**Función coeficiente de Spearman encapsulado en una función**"
      ]
    },
    {
      "cell_type": "code",
      "execution_count": null,
      "metadata": {
        "id": "WQ7kKn3Q2DEq"
      },
      "outputs": [],
      "source": [
        "def coefSpearman(dato, pron):\n",
        "  matriz={} #Crea una un conjunto vació\n",
        "  matriz['Datos']=(dato) #crea una clave con los datos de la lista datos\n",
        "  matriz['Prediccion']=(pron) #crea una clave con los datos de la lista predicción\n",
        "  df=pd.DataFrame(matriz) #usa pandas para crear un DataFrame con los de la lista Dato y Predicción\n",
        "  df['D_i']=df['Datos']-df['Prediccion'] #calcula el valor D_i y agrega una columna al DataFrame\n",
        "  df['D_i^2']=df['D_i']*df['D_i']  #Calcula el valor D_i al cuadrado y agrega una coluna al DataFrame\n",
        "  n=df.shape[0] #cuenta el número de filas de la matriz del DataFrame\n",
        "  D_i_cuadrado=df['D_i^2'].sum() #suma todos los valores de la columnna D_i al cuadrado, valor usado en la fórmula\n",
        "  return (1-(6*D_i_cuadrado)/(n*(n**2-1))) #calcula y retorna el valor del coeficiente de Spearman"
      ]
    },
    {
      "cell_type": "markdown",
      "metadata": {
        "id": "4GSuRM4wSIl-"
      },
      "source": [
        "**Datos**"
      ]
    },
    {
      "cell_type": "code",
      "execution_count": null,
      "metadata": {
        "id": "AjIeDcAnLYM4"
      },
      "outputs": [],
      "source": [
        "dato = [ 1.5 , 2.89, -0.08, -2.93, -1.35, 2.26, 2.47, -1.05, -2.98, -0.41, 2.78, 1.78, -1.91, -2.71, 0.58, 3. , 0.9 , -2.56, -2.15, 1.5 ]\n",
        "pron = [ 3.58, 4.3 , 0.5 , -3.11, -1.94, 3.71, 1.56, -1.55, -2.77, -0.51, 2.93, 2.14, -1.76, -1.96, -0.51, 2.96, -0.34, -3.33, -3.49, 1.5]\n",
        "\n",
        "\n",
        "\n"
      ]
    },
    {
      "cell_type": "markdown",
      "metadata": {
        "id": "vhAPzrvyRh8c"
      },
      "source": [
        "**LLamando a la función e imprimiendo el coeficiente**"
      ]
    },
    {
      "cell_type": "code",
      "execution_count": null,
      "metadata": {
        "colab": {
          "base_uri": "https://localhost:8080/"
        },
        "id": "AgDbsVcp0L9-",
        "outputId": "31014ac1-eceb-40ca-f2ac-23140c26ac2d"
      },
      "outputs": [
        {
          "name": "stdout",
          "output_type": "stream",
          "text": [
            "\n",
            "El coeficiente de spearman es: 0.987880\n"
          ]
        }
      ],
      "source": [
        "coef_spear=coefSpearman(dato,pron)\n",
        "print('\\nEl coeficiente de spearman es: %f' %coef_spear)"
      ]
    },
    {
      "cell_type": "markdown",
      "metadata": {
        "id": "isWmCc2ReYaz"
      },
      "source": [
        "3. **Coeficiente de Gini:** es una medida de la desigualdad. El coeficiente de Gini es un número entre 0 y 1, en donde 0 se corresponde con la perfecta igualdad (todos tienen los mismos ingresos) y donde el valor 1 se corresponde con la perfecta desigualdad. Para obtener el coeficiente de Gini, en general se utiliza la fórmila de Brown:\n",
        "\n",
        "$$G = \\left|1 - \\sum_{k=1}^n (X_{k+1}-X_k)(Y_{k+1}+Y_k)\\right|$$\n",
        "\n",
        "donde $X$ e $Y$ corresponden a la proporción acumulada de las variables.\n",
        "\n",
        "Implementar la función que calcule el coeficiente de Gini.\n"
      ]
    },
    {
      "cell_type": "markdown",
      "metadata": {
        "id": "7YQnfOjyeYa0"
      },
      "source": [
        "Obtener el coeficiente de Gini para las siguientes dos proporciones:\n",
        "\n",
        "| Variables Acumuladas| Clase 1 | Clase 2 | Clase 3 | Clase 4 | Clase 5 |\n",
        "| --- | --- | --- | --- | --- | --- |\n",
        "| X | 0.09 | 0.33 | 0.45 | 0.78 | 1 |\n",
        "| Y | 0.17 | 0.48 | 0.62 | 0.86 | 1 |\n",
        "\n"
      ]
    },
    {
      "cell_type": "markdown",
      "metadata": {
        "id": "qAUKqiC4T1_W"
      },
      "source": [
        "**Definición de la función**"
      ]
    },
    {
      "cell_type": "code",
      "execution_count": null,
      "metadata": {
        "id": "wPpfW2bnT8Tb"
      },
      "outputs": [],
      "source": [
        "#definición de la función\n",
        "def coefGini(Var_X ,Var_Y ):\n",
        "  Matriz_datos={}#Crea un conjunto vació\n",
        "  Matriz_datos['VarX']=Var_X #se agrega la clave y datos al diccionario\n",
        "  Matriz_datos['VarY']=Var_Y #se agrega la clave y datos al diccionario\n",
        "  df_1=pd.DataFrame(Matriz_datos, index=['Clase 1','Clase 2','Clase 3','Clase 4','Clase 5']) #se crea el dataFrame con pandas\n",
        "  df_1['X_k+1-X_k']=(df_1['VarX'].shift(-1)-df_1['VarX']).shift(1) #Se calcula la diferencia de los datos X\n",
        "  df_1['Y_k+1+Y_k']=(df_1['VarY'].shift(-1)+df_1['VarY']).shift(1) #Se calcula la suma de los datos Y\n",
        "  df_1['Xes*Yes']=df_1['X_k+1-X_k']*df_1['Y_k+1+Y_k']\n",
        "  Coef_Gini=abs(1-((df_1['X_k+1-X_k']*df_1['Y_k+1+Y_k']).sum())) #Se suman los productos de la diferencia de X con las sumas de Y\n",
        "  print(df_1)\n",
        "  return Coef_Gini\n",
        "  "
      ]
    },
    {
      "cell_type": "markdown",
      "metadata": {
        "id": "g6BvwTHwT7l5"
      },
      "source": [
        "**Datos**"
      ]
    },
    {
      "cell_type": "code",
      "execution_count": null,
      "metadata": {
        "id": "m1lWPVpyUddq"
      },
      "outputs": [],
      "source": [
        "Variable_X=[0.09,0.33,0.45,0.78,1]\n",
        "Variable_Y=[0.17,0.48,0.62,0.86,1]\n"
      ]
    },
    {
      "cell_type": "markdown",
      "metadata": {
        "id": "ihy_TmiSiOtM"
      },
      "source": [
        "**LLamando a la función y calculando el coef de Gini**"
      ]
    },
    {
      "cell_type": "code",
      "execution_count": null,
      "metadata": {
        "colab": {
          "base_uri": "https://localhost:8080/"
        },
        "id": "QPb7WZLliNXl",
        "outputId": "4b0311fa-0644-4f19-dcdc-52202dd6c766"
      },
      "outputs": [
        {
          "name": "stdout",
          "output_type": "stream",
          "text": [
            "         VarX  VarY  X_k+1-X_k  Y_k+1+Y_k  Xes*Yes\n",
            "Clase 1  0.09  0.17        NaN        NaN      NaN\n",
            "Clase 2  0.33  0.48       0.24       0.65   0.1560\n",
            "Clase 3  0.45  0.62       0.12       1.10   0.1320\n",
            "Clase 4  0.78  0.86       0.33       1.48   0.4884\n",
            "Clase 5  1.00  1.00       0.22       1.86   0.4092\n",
            "El coeficiente de Gini es: 0.1856\n"
          ]
        }
      ],
      "source": [
        "G=coefGini(Variable_X,Variable_Y)\n",
        "print(\"El coeficiente de Gini es:\", G)"
      ]
    },
    {
      "cell_type": "markdown",
      "metadata": {
        "id": "ZbsjvoX9eYa4"
      },
      "source": [
        "## 2. Algoritmos"
      ]
    },
    {
      "cell_type": "markdown",
      "metadata": {
        "id": "1RC26f0LeYa6"
      },
      "source": [
        "1. Dado dos conjuntos de datos ordenados y de tamaños diferentes, realizar una función que mezcle ambos conjunto y genere un nuevo conjunto con todos los datos ordenados."
      ]
    },
    {
      "cell_type": "markdown",
      "metadata": {
        "id": "E2Sd3KlDkOEA"
      },
      "source": [
        "**Función para unir conjuntos de datos**"
      ]
    },
    {
      "cell_type": "code",
      "execution_count": null,
      "metadata": {
        "id": "AwAPDG6-kRNu"
      },
      "outputs": [],
      "source": [
        "def unir(D1,D2):\n",
        "  D=D1|D2 #crea la unión de los dos conjuntos\n",
        "  return D"
      ]
    },
    {
      "cell_type": "markdown",
      "metadata": {
        "id": "cBTnbVv9mmXo"
      },
      "source": [
        "**Algoritmo burbuja para ordenar**"
      ]
    },
    {
      "cell_type": "code",
      "execution_count": null,
      "metadata": {
        "id": "mVbzzmKMmpOP"
      },
      "outputs": [],
      "source": [
        "def burbuja(D):\n",
        "  D=list(D) #convierte el conjunto en una lista\n",
        "  intercambio=True\n",
        "  while intercambio:\n",
        "    intercambio=False\n",
        "    for i in range(len(D)-1):\n",
        "      if D[i]>D[i+1]:\n",
        "        D[i], D[i+1]=D[i+1], D[i]\n",
        "        intercambio=True\n",
        "  return D #Devuelve el conjunto como una lista ordenada"
      ]
    },
    {
      "cell_type": "markdown",
      "metadata": {
        "id": "6xUdjLZ9eYbA"
      },
      "source": [
        "Aplicar el algoritmo para mezclar y ordenar los siguientes conjuntos:\n",
        "\n",
        "$$D_1 = \\{5, 7, 15, 23, 45, 72, 83\\}$$\n",
        "\n",
        "$$D_2= \\{1, 2, 6, 29, 37, 75, 100, 110, 115, 117\\}$$"
      ]
    },
    {
      "cell_type": "markdown",
      "metadata": {
        "id": "5YGZLyvhjhdr"
      },
      "source": [
        "**Datos**"
      ]
    },
    {
      "cell_type": "code",
      "execution_count": null,
      "metadata": {
        "id": "ACzscmuOeYa_"
      },
      "outputs": [],
      "source": [
        "D1={5,7,15,23,45,72,83}\n",
        "D2={1,2,6,29,37,75,100,110,115,117}\n"
      ]
    },
    {
      "cell_type": "markdown",
      "metadata": {
        "id": "megUTXT-lkMH"
      },
      "source": [
        "**Union de conjuntos**"
      ]
    },
    {
      "cell_type": "code",
      "execution_count": null,
      "metadata": {
        "colab": {
          "base_uri": "https://localhost:8080/"
        },
        "id": "s6zsCxe3lgVe",
        "outputId": "a4b8644e-34f4-4f8d-fc40-c4cfe34e95b3"
      },
      "outputs": [
        {
          "name": "stdout",
          "output_type": "stream",
          "text": [
            "{1, 2, 5, 6, 7, 72, 75, 15, 83, 23, 29, 100, 37, 45, 110, 115, 117}\n"
          ]
        }
      ],
      "source": [
        "D=unir(D1,D2) #llama a la función unión de conjuntos\n",
        "print(D)  #imprime el conjunto unido y sin ordenar\n"
      ]
    },
    {
      "cell_type": "markdown",
      "metadata": {
        "id": "ZDoyLk9Vltj5"
      },
      "source": [
        "**Ordenando los elementos del conjunto nuevo**"
      ]
    },
    {
      "cell_type": "code",
      "execution_count": null,
      "metadata": {
        "colab": {
          "base_uri": "https://localhost:8080/"
        },
        "id": "rT1krcdTqhk_",
        "outputId": "840358d1-33d5-4fc1-8f15-2f279f0b8843"
      },
      "outputs": [
        {
          "name": "stdout",
          "output_type": "stream",
          "text": [
            "Datos de la lista ya ordenados\n",
            "[1, 2, 5, 6, 7, 15, 23, 29, 37, 45, 72, 75, 83, 100, 110, 115, 117]\n"
          ]
        }
      ],
      "source": [
        "print(\"Datos de la lista ya ordenados\")\n",
        "print(burbuja(D)) #llama a la función de ordenamiento burbuja"
      ]
    },
    {
      "cell_type": "markdown",
      "metadata": {
        "id": "9ApSqhGteYbH"
      },
      "source": [
        "2. La equivalencia de los símbolos básicos de los números romanos es la siguiente:\n",
        "\n",
        "|Número Romano | I | V | X | L | C | D | M |\n",
        "| --- | --- | --- | --- | --- | --- | --- | --- |\n",
        "|Número decimal| 1 | 5 | 10 | 50 | 100 | 500 | 1000 |\n",
        "\n",
        "Los enteros romanos se escriben de acuerdo a las siguientes reglas:\n",
        "\n",
        "- Si una letra está seguida inmediatamente por una de igual o menor valor, su valor se suma al total acumulado. Así, XX = 20, XV = 15 y VI = 6.\n",
        "- Si una letra está seguida inmediatamente por una de mayor valor, su valor se sustrae del total acumulado. Así, IV = 4, XL = 40 y CM = 900.\n",
        "\n",
        "Escriba la función que reciba un string con un número en notación romana, y entregue el entero equivalente:"
      ]
    },
    {
      "cell_type": "markdown",
      "metadata": {
        "id": "TYBr2RV2rrLV"
      },
      "source": [
        "**Función que convierte en entero el romano**"
      ]
    },
    {
      "cell_type": "code",
      "execution_count": null,
      "metadata": {
        "id": "PQ5udqrkeYbJ"
      },
      "outputs": [],
      "source": [
        "def roman_a_decimal(roman):\n",
        "  romanos={'I':1 , 'V':5, 'X':10, 'L':50, 'C':100, 'D':500, 'M':1000}\n",
        "  decimal=0\n",
        "\n",
        "  for i in range(len(roman)):\n",
        "    if i>0 and romanos[roman[i]]>romanos[roman[i-1]]:\n",
        "      decimal+=romanos[roman[i]]-2*romanos[roman[i-1]]\n",
        "    else:\n",
        "      decimal+=romanos[roman[i]]\n",
        "  \n",
        "  return decimal     "
      ]
    },
    {
      "cell_type": "markdown",
      "metadata": {
        "id": "wiNzKiZgtpzl"
      },
      "source": [
        "**Llamda a la función y escribir el romano**"
      ]
    },
    {
      "cell_type": "code",
      "execution_count": null,
      "metadata": {
        "colab": {
          "base_uri": "https://localhost:8080/"
        },
        "id": "MqSgq3iYtuJJ",
        "outputId": "705b4520-cee8-4857-cb20-836172ffca52"
      },
      "outputs": [
        {
          "name": "stdout",
          "output_type": "stream",
          "text": [
            "Ingrese el número romano con letra mayúsculaVC\n",
            "95\n"
          ]
        }
      ],
      "source": [
        "str=input(\"Ingrese el número romano con letra mayúscula\")\n",
        "\n",
        "print(roman_a_decimal(str))\n"
      ]
    },
    {
      "cell_type": "markdown",
      "metadata": {
        "id": "8O350tvEeYbJ"
      },
      "source": [
        "## 3. Algoritmos en Series de Tiempo\n",
        "\n",
        "Una serie de tiempo es una secuencia de valores numéricos obtenidos a intervalos de tiempos regulares.\n",
        "\n",
        "$$X=\\{x_1, x_2,....., x_t, ..., x_T\\}$$"
      ]
    },
    {
      "cell_type": "markdown",
      "metadata": {
        "id": "_0S7HkIqeYbM"
      },
      "source": [
        "1. Las medias móviles con retardo $p$ de una serie de tiempo son las secuencia de todos los promedios de $p$ valores consecutivos de la serie. Realizar una función que retorne el arreglo de las medias móviles con retardo $p$ de la serie."
      ]
    },
    {
      "cell_type": "markdown",
      "metadata": {
        "id": "RA7ks89lUbPI"
      },
      "source": [
        "**Definición de la función para el calculo de medias móviles**"
      ]
    },
    {
      "cell_type": "code",
      "execution_count": null,
      "metadata": {
        "id": "xYXaftAqeYbN"
      },
      "outputs": [],
      "source": [
        "def media_movil(dato1,p) :\n",
        "    retardo = np.cumsum(dato1, dtype=float) #crea una lista con los valores de las sumas acumuladas hasta la posición, según la lista original\n",
        "    retardo[p:] = retardo[p:] - retardo[:-p] \n",
        "    return retardo[p - 1:] / p\n",
        "\n"
      ]
    },
    {
      "cell_type": "markdown",
      "metadata": {
        "id": "iptJ5capeYbQ"
      },
      "source": [
        "Aplicar la función a los siguientes datos:\n",
        "\n",
        "Dato = { 1.5 ,  2.89, -0.08, -2.93, -1.35,  2.26,  2.47, -1.05, -2.98,\n",
        "       -0.41,  2.78,  1.78, -1.91, -2.71,  0.58,  3.  ,  0.9 , -2.56,\n",
        "       -2.15,  1.5 }"
      ]
    },
    {
      "cell_type": "markdown",
      "metadata": {
        "id": "uLS-mCJySCEQ"
      },
      "source": [
        "**Datos**"
      ]
    },
    {
      "cell_type": "code",
      "execution_count": null,
      "metadata": {
        "id": "533z4WbSeYbR"
      },
      "outputs": [],
      "source": [
        "Dato1 = [1.5 , 2.89, -0.08, -2.93, -1.35, 2.26, 2.47, -1.05, -2.98, -0.41, 2.78, 1.78, -1.91, -2.71, 0.58, 3. , 0.9 , -2.56, -2.15, 1.5 ]"
      ]
    },
    {
      "cell_type": "markdown",
      "metadata": {
        "id": "SiBbAlJvPNUH"
      },
      "source": [
        "**LLamando a la función calculo de media movil**"
      ]
    },
    {
      "cell_type": "code",
      "execution_count": null,
      "metadata": {
        "colab": {
          "base_uri": "https://localhost:8080/"
        },
        "id": "XBSzwf-1PSMc",
        "outputId": "ef6fed3b-9f53-4621-abcb-855af531cf82"
      },
      "outputs": [
        {
          "name": "stdout",
          "output_type": "stream",
          "text": [
            "Ingrese el valor del retardo1\n",
            "[ 1.5   2.89 -0.08 -2.93 -1.35  2.26  2.47 -1.05 -2.98 -0.41  2.78  1.78\n",
            " -1.91 -2.71  0.58  3.    0.9  -2.56 -2.15  1.5 ]\n"
          ]
        }
      ],
      "source": [
        "p=int(input(\"Ingrese el valor del retardo\")) #ingresa el valor del retardo\n",
        "print(media_movil(Dato1,p)) #imprime la lista de las medias móviles llamando a la función. Se le pasa la lista de datos y el retardo"
      ]
    },
    {
      "cell_type": "markdown",
      "metadata": {
        "id": "VBG-4QCTeYbS"
      },
      "source": [
        "2. Las diferencias finitas de una serie de tiempo son la secuencia de todas las diferencias entre un valor y el anterior. Escribir una función que retorne el arreglo de las diferencias finitas de la serie."
      ]
    },
    {
      "cell_type": "markdown",
      "metadata": {
        "id": "z7WjKMQPWhn1"
      },
      "source": [
        "**Función que devuelve arreglo de las diferencias**"
      ]
    },
    {
      "cell_type": "code",
      "execution_count": null,
      "metadata": {
        "id": "Zcv80bZleYbV"
      },
      "outputs": [],
      "source": [
        "def dif_fin(matriz_2): #recibe la lista\n",
        "  MaTr={} #se crea un conjunto vacío para cargar la lista\n",
        "  MaTr['Valor']=matriz_2 #se carga la lista de datos en un conjunto\n",
        "  df_3=pd.DataFrame(MaTr) #se transforma el conjunto en un dataFrame pandas\n",
        "  df_3['(Valor+1)-Valor']=(df_3['Valor'].shift(-1)-df_3['Valor']).shift(1) #restamos el un valor y lo restamos con el anterior y se guarda en una columna del DataFrame\n",
        "  lista_dif=df_3['(Valor+1)-Valor'].tolist() #pasamos la culumna 'Valor+1-Valor' a una lista que es la lista de diferencias\n",
        "  for i in range(len(lista_dif)):\n",
        "    lista_dif[i]=round(lista_dif[i],2)\n",
        "  \n",
        "  return lista_dif[1:]   #imprimimos desdel el segundo elemento (índice 1), el primero no tiene registro pues el primer elemento no se resta con ninguno anterior\n",
        "\n",
        "\n"
      ]
    },
    {
      "cell_type": "markdown",
      "metadata": {
        "id": "bCn1TZtfeYbY"
      },
      "source": [
        "Aplicar la función a los siguientes datos:\n",
        "\n",
        "Dato = { 1.5 ,  2.89, -0.08, -2.93, -1.35,  2.26,  2.47, -1.05, -2.98,\n",
        "       -0.41,  2.78,  1.78, -1.91, -2.71,  0.58,  3.  ,  0.9 , -2.56,\n",
        "       -2.15,  1.5 }"
      ]
    },
    {
      "cell_type": "markdown",
      "metadata": {
        "id": "TmIQPWHxXNLD"
      },
      "source": [
        "**Datos**"
      ]
    },
    {
      "cell_type": "code",
      "execution_count": null,
      "metadata": {
        "id": "kanpWIbeeYbZ"
      },
      "outputs": [],
      "source": [
        "Dato2 = [ 1.5 , 2.89, -0.08, -2.93, -1.35, 2.26, 2.47, -1.05, -2.98, -0.41, 2.78, 1.78, -1.91, -2.71, 0.58, 3. , 0.9 , -2.56, -2.15, 1.5 ]"
      ]
    },
    {
      "cell_type": "markdown",
      "metadata": {
        "id": "A3g8WAAqXPdM"
      },
      "source": [
        "**LLamada a la función**"
      ]
    },
    {
      "cell_type": "code",
      "execution_count": null,
      "metadata": {
        "colab": {
          "base_uri": "https://localhost:8080/"
        },
        "id": "mFJkz72-XTTP",
        "outputId": "c567d8cd-ccf9-4878-dde7-dc7c9804b585"
      },
      "outputs": [
        {
          "name": "stdout",
          "output_type": "stream",
          "text": [
            "[1.39, -2.97, -2.85, 1.58, 3.61, 0.21, -3.52, -1.93, 2.57, 3.19, -1.0, -3.69, -0.8, 3.29, 2.42, -2.1, -3.46, 0.41, 3.65]\n"
          ]
        }
      ],
      "source": [
        "print(dif_fin(Dato2)) #se llama a al función y se imprime el retorno de la función, que son las diferencias finitas."
      ]
    },
    {
      "cell_type": "markdown",
      "metadata": {
        "id": "umMlatX3eYbd"
      },
      "source": [
        "3. En algunos métodos se requiere construir la matriz de rezagos de orden p. Esto es, dado la serie de tiempo:\n",
        "\n",
        "$$X=\\{x_1, x_2,....., x_t, ..., x_T\\}$$\n",
        "\n",
        "La matriz de rezagos de orden $p$ está dada por:\n",
        "\n",
        "$$M = \\left[\\begin{array}{cccccc}\n",
        "x_1 & x_2 & ... & x_p\\\\\n",
        "x_2 & x_3 & ... & x_{p+1}\\\\\n",
        "x_4 & x_5 & ... & x_{p+2}\\\\\n",
        "... & ... & ... & ...\\\\\n",
        "x_{T-p} & x_{T-p+1} & ... & x_{T-1}\\\\\n",
        "x_{T-p+1} & x_{T-p+2} & ... & x_{T}\\\\\n",
        "\\end{array}\n",
        "\\right]$$ \n",
        "\n",
        "Realizar una función que construya dicha estructura de datos."
      ]
    },
    {
      "cell_type": "markdown",
      "metadata": {
        "id": "-XtH6H0G1hQQ"
      },
      "source": [
        "**Función de para matriz de rezagos**"
      ]
    },
    {
      "cell_type": "code",
      "execution_count": 48,
      "metadata": {
        "id": "Gipibg-meYbl"
      },
      "outputs": [],
      "source": [
        "  def mat_rez(dat,p): #recibe los datos y el orden\n",
        "    filas=len(dat)-p+1     #se define el número de filas\n",
        "    columnas=p            #se define el número de columnas\n",
        "    matriz=[]         #se crea una matriz de vacía\n",
        "    for i in range(filas): #se recorre el arreglo\n",
        "      matriz.append([0]*columnas) \n",
        "    count=0 #contador para ir trasladando el elemento que va en la primera posición de la fila siguiente\n",
        "    for i in range(filas):   \n",
        "      for j in range(columnas):\n",
        "        matriz[i][j]=dat[j+count]\n",
        "        if j==(p-1):    #termina con el elemento en la columna y lo compara para trasladar el elemento en la fila siguiente\n",
        "          count+=1\n",
        "\n",
        "    z=np.array(matriz) #transforma la matriz a matriz numpy del tipo array\n",
        "  \n",
        "    return z.reshape(filas,columnas) #redimensiona el array en filas y columnas para presentarlo de forma rectangular\n",
        "\n",
        "  "
      ]
    },
    {
      "cell_type": "markdown",
      "metadata": {
        "id": "JmJUX3XBeYbo"
      },
      "source": [
        "Aplicar la función a los siguientes datos:\n",
        "\n",
        "Dato = { 1.5 ,  2.89, -0.08, -2.93, -1.35,  2.26,  2.47, -1.05, -2.98,\n",
        "       -0.41,  2.78,  1.78, -1.91, -2.71,  0.58,  3.  ,  0.9 , -2.56,\n",
        "       -2.15,  1.5 }"
      ]
    },
    {
      "cell_type": "code",
      "execution_count": 49,
      "metadata": {
        "id": "CCUyKZcq4m-b"
      },
      "outputs": [],
      "source": [
        "dato4 = [ 1.5 , 2.89, -0.08, -2.93, -1.35, 2.26, 2.47, -1.05, -2.98, -0.41, 2.78, 1.78, -1.91, -2.71, 0.58, 3. , 0.9 , -2.56, -2.15, 1.5 ]"
      ]
    },
    {
      "cell_type": "code",
      "execution_count": 50,
      "metadata": {
        "colab": {
          "base_uri": "https://localhost:8080/"
        },
        "id": "olK7zqfMeYbp",
        "outputId": "98523d1f-1466-49fa-f209-da3940e67c69"
      },
      "outputs": [
        {
          "output_type": "stream",
          "name": "stdout",
          "text": [
            "ingrese tamaño orden: 4\n",
            "[[ 1.5   2.89 -0.08 -2.93]\n",
            " [ 2.89 -0.08 -2.93 -1.35]\n",
            " [-0.08 -2.93 -1.35  2.26]\n",
            " [-2.93 -1.35  2.26  2.47]\n",
            " [-1.35  2.26  2.47 -1.05]\n",
            " [ 2.26  2.47 -1.05 -2.98]\n",
            " [ 2.47 -1.05 -2.98 -0.41]\n",
            " [-1.05 -2.98 -0.41  2.78]\n",
            " [-2.98 -0.41  2.78  1.78]\n",
            " [-0.41  2.78  1.78 -1.91]\n",
            " [ 2.78  1.78 -1.91 -2.71]\n",
            " [ 1.78 -1.91 -2.71  0.58]\n",
            " [-1.91 -2.71  0.58  3.  ]\n",
            " [-2.71  0.58  3.    0.9 ]\n",
            " [ 0.58  3.    0.9  -2.56]\n",
            " [ 3.    0.9  -2.56 -2.15]\n",
            " [ 0.9  -2.56 -2.15  1.5 ]]\n"
          ]
        }
      ],
      "source": [
        "p=int(input(\"ingrese tamaño orden: \"))\n",
        "print(mat_rez(dato4,p))"
      ]
    }
  ],
  "metadata": {
    "colab": {
      "collapsed_sections": [],
      "name": "EC - Tarea 1 - Estadística Computacional-Cristian-Alcaíno.ipynb",
      "provenance": [],
      "include_colab_link": true
    },
    "kernelspec": {
      "display_name": "Python 3",
      "language": "python",
      "name": "python3"
    },
    "language_info": {
      "codemirror_mode": {
        "name": "ipython",
        "version": 3
      },
      "file_extension": ".py",
      "mimetype": "text/x-python",
      "name": "python",
      "nbconvert_exporter": "python",
      "pygments_lexer": "ipython3",
      "version": "3.8.5"
    },
    "accelerator": "GPU"
  },
  "nbformat": 4,
  "nbformat_minor": 0
}